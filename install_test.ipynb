{
 "cells": [
  {
   "cell_type": "markdown",
   "id": "54f202b3-5016-4444-900e-c128f32d4e16",
   "metadata": {},
   "source": [
    "## Jupyter Test\n",
    "* try running the cell below"

   ]
  },
  {
   "cell_type": "code",
   "execution_count": null,
   "id": "692d2341-30b7-4d9f-990e-2908dba57fb9",
   "metadata": {},
   "outputs": [],
   "source": [
    "2 + 2"
   ]
  },
  {
   "cell_type": "markdown",
   "id": "d80931ce-4b8e-4b12-9b1a-b111cc2b78de",
   "metadata": {},
   "source": [
    "* if you're able to run the cell above (i.e., you get a result of 4), then you have Jupyter and Python successfully installed\n",
    "  "
   ]
  }
 ],
 "metadata": {
  "kernelspec": {
   "display_name": "Python 3 (ipykernel)",
   "language": "python",
   "name": "python3"
  },
  "language_info": {
   "codemirror_mode": {
    "name": "ipython",
    "version": 3
   },
   "file_extension": ".py",
   "mimetype": "text/x-python",
   "name": "python",
   "nbconvert_exporter": "python",
   "pygments_lexer": "ipython3",
   "version": "3.13.1"
  }
 },
 "nbformat": 4,
 "nbformat_minor": 5
}
